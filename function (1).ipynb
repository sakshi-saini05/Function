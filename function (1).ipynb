{
 "cells": [
  {
   "cell_type": "markdown",
   "id": "3e524a16",
   "metadata": {},
   "source": [
    "#### What is function and Why we need it ??\n",
    "\n",
    "- subroutines\n",
    "\n",
    "- procedures\n",
    "\n",
    "- methods\n",
    "\n",
    "- subprograms\n",
    "#### all are often called as functions\n"
   ]
  },
  {
   "cell_type": "markdown",
   "id": "6c2f5470",
   "metadata": {},
   "source": [
    "\n",
    "### Functions\n",
    "Python Functions is a block of related statements designed to perform a computational, logical,\n",
    "or evaluative task.\n",
    "\n",
    "\n",
    "\n",
    "The idea is to put some commonly or repeatedly done tasks together and\n",
    "make a function so that instead of writing the same code again and again for different inputs,\n",
    "we can do the function calls to reuse code contained in it over and over again.\n"
   ]
  },
  {
   "cell_type": "markdown",
   "id": "a3bf59d0",
   "metadata": {},
   "source": [
    "\n",
    "Importance of functions:\n",
    "    \n",
    "- Resusability\n",
    "\n",
    "- Abstraction\n",
    "\n",
    "- Modularity\n",
    "\n",
    "- debugging fast\n",
    "\n"
   ]
  },
  {
   "cell_type": "markdown",
   "id": "07bee096",
   "metadata": {},
   "source": [
    "### Functions can be both "
   ]
  },
  {
   "cell_type": "markdown",
   "id": "6ce4dfce",
   "metadata": {},
   "source": [
    "- built-in \n",
    "\n",
    "\n",
    "- user-defined. \n",
    "\n",
    "\n",
    "It helps the program to be concise, nonrepetitive, and organized.\n",
    "\n",
    "\n"
   ]
  },
  {
   "cell_type": "markdown",
   "id": "3d0627ad",
   "metadata": {},
   "source": [
    "- Pre-defined/built-in/library function\n",
    "\n",
    "Functions which are already created and stored in python library are called built-in functions. For using these functions, we just need to call them with their names in our python file.\n",
    "\n",
    "- User defined functions\n",
    "\n",
    "As its name suggests user defined functions are created by users. You can create your own function with any name and easily use in by calling it inside that python file.\n",
    "\n",
    "\n"
   ]
  },
  {
   "cell_type": "markdown",
   "id": "f016f157",
   "metadata": {},
   "source": [
    "### builtin functions:\n",
    "- input()\n",
    "- len()\n",
    "- pow()\n",
    "- id()\n",
    "- ord()\n",
    "- round(\n",
    "- chr()\n",
    "- type()\n",
    "- print()\n",
    "- float()\n",
    "- int()\n",
    "- str()\n",
    "- help() : returns th documentation/details of any function\n",
    "\n",
    "etc.\n",
    "\n",
    "\n",
    "          \n"
   ]
  },
  {
   "cell_type": "markdown",
   "id": "2b14de1d",
   "metadata": {},
   "source": [
    "len(): it tells the number of elements in the iterable"
   ]
  },
  {
   "cell_type": "code",
   "execution_count": 2,
   "id": "c5c0b5bc",
   "metadata": {},
   "outputs": [
    {
     "data": {
      "text/plain": [
       "6"
      ]
     },
     "execution_count": 2,
     "metadata": {},
     "output_type": "execute_result"
    }
   ],
   "source": [
    "len(\"madrid\")"
   ]
  },
  {
   "cell_type": "code",
   "execution_count": 3,
   "id": "23d34df6",
   "metadata": {},
   "outputs": [
    {
     "data": {
      "text/plain": [
       "8"
      ]
     },
     "execution_count": 3,
     "metadata": {},
     "output_type": "execute_result"
    }
   ],
   "source": [
    "pow(2,3)"
   ]
  },
  {
   "cell_type": "code",
   "execution_count": 5,
   "id": "d4fe2b47",
   "metadata": {},
   "outputs": [
    {
     "data": {
      "text/plain": [
       "12.46"
      ]
     },
     "execution_count": 5,
     "metadata": {},
     "output_type": "execute_result"
    }
   ],
   "source": [
    "round(12.456782,2)"
   ]
  },
  {
   "cell_type": "code",
   "execution_count": 2,
   "id": "a5bd99c8",
   "metadata": {},
   "outputs": [
    {
     "ename": "TypeError",
     "evalue": "ord() expected string of length 1, but int found",
     "output_type": "error",
     "traceback": [
      "\u001b[1;31m---------------------------------------------------------------------------\u001b[0m",
      "\u001b[1;31mTypeError\u001b[0m                                 Traceback (most recent call last)",
      "Cell \u001b[1;32mIn[2], line 3\u001b[0m\n\u001b[0;32m      1\u001b[0m \u001b[38;5;66;03m#help(pow)\u001b[39;00m\n\u001b[0;32m      2\u001b[0m a\u001b[38;5;241m=\u001b[39m\u001b[38;5;241m97\u001b[39m\n\u001b[1;32m----> 3\u001b[0m \u001b[38;5;28;43mord\u001b[39;49m\u001b[43m(\u001b[49m\u001b[43ma\u001b[49m\u001b[43m)\u001b[49m\n",
      "\u001b[1;31mTypeError\u001b[0m: ord() expected string of length 1, but int found"
     ]
    }
   ],
   "source": [
    "help(pow)\n"
   ]
  },
  {
   "cell_type": "markdown",
   "id": "ea94d69a",
   "metadata": {},
   "source": [
    "## user defined functions"
   ]
  },
  {
   "cell_type": "markdown",
   "id": "047299ea",
   "metadata": {},
   "source": [
    "## how to create the functions"
   ]
  },
  {
   "cell_type": "markdown",
   "id": "96941f37",
   "metadata": {},
   "source": [
    "4 ways to create the function \n",
    "- without argument without return value\n",
    "- without argument with return value\n",
    "- with argument without return value\n",
    "- with argument with return value"
   ]
  },
  {
   "cell_type": "markdown",
   "id": "46134130",
   "metadata": {},
   "source": [
    "# without argument without return value"
   ]
  },
  {
   "cell_type": "code",
   "execution_count": 3,
   "id": "d4ffbe9f",
   "metadata": {},
   "outputs": [],
   "source": [
    "def add(): # function defintion\n",
    "    '''this is for addition of two numbers \n",
    "    here n1 and n2 are inputs'''\n",
    "    n1=int(input(\"enter the first no \"))\n",
    "    n2=int(input(\"enter the second no \"))\n",
    "    result=n1+n2\n",
    "    print(\"the result is \",result)"
   ]
  },
  {
   "cell_type": "code",
   "execution_count": 7,
   "id": "97cf3e96",
   "metadata": {},
   "outputs": [
    {
     "ename": "TypeError",
     "evalue": "add() takes 0 positional arguments but 2 were given",
     "output_type": "error",
     "traceback": [
      "\u001b[1;31m---------------------------------------------------------------------------\u001b[0m",
      "\u001b[1;31mTypeError\u001b[0m                                 Traceback (most recent call last)",
      "Cell \u001b[1;32mIn[7], line 1\u001b[0m\n\u001b[1;32m----> 1\u001b[0m \u001b[43madd\u001b[49m\u001b[43m(\u001b[49m\u001b[38;5;241;43m2\u001b[39;49m\u001b[43m,\u001b[49m\u001b[38;5;241;43m2\u001b[39;49m\u001b[43m)\u001b[49m\n",
      "\u001b[1;31mTypeError\u001b[0m: add() takes 0 positional arguments but 2 were given"
     ]
    }
   ],
   "source": [
    "add(2,2) # it give the error bcoz we are giving no argument"
   ]
  },
  {
   "cell_type": "code",
   "execution_count": 8,
   "id": "a6bbd5b4",
   "metadata": {},
   "outputs": [
    {
     "name": "stdout",
     "output_type": "stream",
     "text": [
      "enter the first no 651\n",
      "enter the second no 651\n",
      "the result is  1302\n"
     ]
    }
   ],
   "source": [
    "add()"
   ]
  },
  {
   "cell_type": "code",
   "execution_count": 10,
   "id": "97492dc7",
   "metadata": {},
   "outputs": [
    {
     "name": "stdout",
     "output_type": "stream",
     "text": [
      "the value of c is  40\n",
      "before calling the function\n",
      "enter the first no 45\n",
      "enter the second no 55\n",
      "the result is  100\n",
      "heloz\n",
      "before second function calling\n",
      "enter the first no 465\n",
      "enter the second no 5\n",
      "the result is  470\n"
     ]
    }
   ],
   "source": [
    "c=5*8\n",
    "print(\"the value of c is \",c)\n",
    "print(\"before calling the function\")\n",
    "add() # function calling\n",
    "print(\"heloz\")\n",
    "print(\"before second function calling\")\n",
    "add() # function calling"
   ]
  },
  {
   "cell_type": "markdown",
   "id": "87aae125",
   "metadata": {},
   "source": [
    "# with argument without return value"
   ]
  },
  {
   "cell_type": "code",
   "execution_count": 15,
   "id": "293a974a",
   "metadata": {},
   "outputs": [],
   "source": [
    "def add1(n1,n2): # function defintion\n",
    "    '''this is for addition of two numbers \n",
    "    here n1 and n2 are inputs'''\n",
    "    result=n1+n2\n",
    "    print(\"the result is \",result)"
   ]
  },
  {
   "cell_type": "code",
   "execution_count": 16,
   "id": "52248b58",
   "metadata": {},
   "outputs": [
    {
     "name": "stdout",
     "output_type": "stream",
     "text": [
      "the result is  77\n"
     ]
    }
   ],
   "source": [
    "add1(45,32)"
   ]
  },
  {
   "cell_type": "code",
   "execution_count": 20,
   "id": "0bbe2f19",
   "metadata": {},
   "outputs": [
    {
     "name": "stdout",
     "output_type": "stream",
     "text": [
      "enter the first no 545\n",
      "enter the second no 65\n",
      "the result is  610\n"
     ]
    }
   ],
   "source": [
    "a=int(input(\"enter the first no \"))\n",
    "b=int(input(\"enter the second no \"))\n",
    "add1(a,b)"
   ]
  },
  {
   "cell_type": "markdown",
   "id": "81f48a6d",
   "metadata": {},
   "source": [
    "# with argument and with return value\n"
   ]
  },
  {
   "cell_type": "code",
   "execution_count": 48,
   "id": "b19b363a",
   "metadata": {},
   "outputs": [],
   "source": [
    "def add2(n1,n2):\n",
    "    \"this is for addition\"\n",
    "    r=n1+n2\n",
    "    return r"
   ]
  },
  {
   "cell_type": "code",
   "execution_count": 53,
   "id": "841d36c9",
   "metadata": {},
   "outputs": [],
   "source": [
    "r=add2(5,4)"
   ]
  },
  {
   "cell_type": "code",
   "execution_count": 54,
   "id": "20237d78",
   "metadata": {},
   "outputs": [],
   "source": [
    "def avg(r):\n",
    "    a=r/2\n",
    "    print(\"the average is \",a)"
   ]
  },
  {
   "cell_type": "code",
   "execution_count": 58,
   "id": "d22dedad",
   "metadata": {},
   "outputs": [
    {
     "name": "stdout",
     "output_type": "stream",
     "text": [
      "the average is  5.0\n"
     ]
    }
   ],
   "source": [
    "avg(result)"
   ]
  },
  {
   "cell_type": "markdown",
   "id": "45536be7",
   "metadata": {},
   "source": [
    "## scope and lifetime of the variable"
   ]
  },
  {
   "cell_type": "markdown",
   "id": "9f58bb3d",
   "metadata": {},
   "source": [
    "### scope: the area up to which the variable can be accesed.\n",
    "### lifetime:how long the variable can live in the memory."
   ]
  },
  {
   "cell_type": "code",
   "execution_count": 3,
   "id": "47eb21f4",
   "metadata": {},
   "outputs": [
    {
     "name": "stdout",
     "output_type": "stream",
     "text": [
      "hello\n",
      "2\n",
      "3\n",
      "2\n"
     ]
    },
    {
     "ename": "NameError",
     "evalue": "name 'b' is not defined",
     "output_type": "error",
     "traceback": [
      "\u001b[1;31m---------------------------------------------------------------------------\u001b[0m",
      "\u001b[1;31mNameError\u001b[0m                                 Traceback (most recent call last)",
      "Cell \u001b[1;32mIn[3], line 9\u001b[0m\n\u001b[0;32m      7\u001b[0m display()\n\u001b[0;32m      8\u001b[0m \u001b[38;5;28mprint\u001b[39m(a)\n\u001b[1;32m----> 9\u001b[0m \u001b[38;5;28mprint\u001b[39m(\u001b[43mb\u001b[49m)\n",
      "\u001b[1;31mNameError\u001b[0m: name 'b' is not defined"
     ]
    }
   ],
   "source": [
    "a=2  ## global:anywhere in the file\n",
    "def display():\n",
    "    print(a)\n",
    "    b=3 ## local:within the function\n",
    "    print(b)\n",
    "print(\"hello\")\n",
    "display()\n",
    "print(a)\n",
    "print(b)\n",
    "\n",
    "## print(b) show the error becoz the variable is local.it scope only wihtin the function.it get reallocated from the memory"
   ]
  },
  {
   "cell_type": "code",
   "execution_count": 7,
   "id": "5edb6ce0",
   "metadata": {},
   "outputs": [
    {
     "name": "stdout",
     "output_type": "stream",
     "text": [
      "hello\n",
      "3\n",
      "10\n",
      "2\n"
     ]
    },
    {
     "ename": "NameError",
     "evalue": "name 'b' is not defined",
     "output_type": "error",
     "traceback": [
      "\u001b[1;31m---------------------------------------------------------------------------\u001b[0m",
      "\u001b[1;31mNameError\u001b[0m                                 Traceback (most recent call last)",
      "Cell \u001b[1;32mIn[7], line 10\u001b[0m\n\u001b[0;32m      8\u001b[0m display()\n\u001b[0;32m      9\u001b[0m \u001b[38;5;28mprint\u001b[39m(a)\n\u001b[1;32m---> 10\u001b[0m \u001b[38;5;28mprint\u001b[39m(\u001b[43mb\u001b[49m)\n",
      "\u001b[1;31mNameError\u001b[0m: name 'b' is not defined"
     ]
    }
   ],
   "source": [
    "a=2  ## global:anywhere in the file\n",
    "def display():\n",
    "    a=10 ## local\n",
    "    b=3 ## local:within the function\n",
    "    print(b)\n",
    "    print(a)\n",
    "print(\"hello\")\n",
    "display()\n",
    "print(a)\n",
    "print(b)\n"
   ]
  },
  {
   "cell_type": "code",
   "execution_count": 16,
   "id": "a9c35dcd",
   "metadata": {},
   "outputs": [
    {
     "name": "stdout",
     "output_type": "stream",
     "text": [
      "hello\n"
     ]
    },
    {
     "ename": "UnboundLocalError",
     "evalue": "local variable 'a' referenced before assignment",
     "output_type": "error",
     "traceback": [
      "\u001b[1;31m---------------------------------------------------------------------------\u001b[0m",
      "\u001b[1;31mUnboundLocalError\u001b[0m                         Traceback (most recent call last)",
      "Cell \u001b[1;32mIn[16], line 11\u001b[0m\n\u001b[0;32m      9\u001b[0m     \u001b[38;5;28mprint\u001b[39m(a)\n\u001b[0;32m     10\u001b[0m \u001b[38;5;28mprint\u001b[39m(\u001b[38;5;124m\"\u001b[39m\u001b[38;5;124mhello\u001b[39m\u001b[38;5;124m\"\u001b[39m)\n\u001b[1;32m---> 11\u001b[0m \u001b[43mdisplay\u001b[49m\u001b[43m(\u001b[49m\u001b[43m)\u001b[49m\n\u001b[0;32m     12\u001b[0m \u001b[38;5;28mprint\u001b[39m(a)\n\u001b[0;32m     13\u001b[0m \u001b[38;5;28mprint\u001b[39m(b)\n",
      "Cell \u001b[1;32mIn[16], line 3\u001b[0m, in \u001b[0;36mdisplay\u001b[1;34m()\u001b[0m\n\u001b[0;32m      2\u001b[0m \u001b[38;5;28;01mdef\u001b[39;00m \u001b[38;5;21mdisplay\u001b[39m():\n\u001b[1;32m----> 3\u001b[0m     \u001b[38;5;28mprint\u001b[39m(\u001b[43ma\u001b[49m) \n\u001b[0;32m      4\u001b[0m     \u001b[38;5;66;03m# we access the varible before creating\u001b[39;00m\n\u001b[0;32m      5\u001b[0m     \u001b[38;5;66;03m#at here interpreter get confused the variable is local or global .\u001b[39;00m\n\u001b[0;32m      6\u001b[0m     b\u001b[38;5;241m=\u001b[39m\u001b[38;5;241m3\u001b[39m \u001b[38;5;66;03m## local:within the function\u001b[39;00m\n",
      "\u001b[1;31mUnboundLocalError\u001b[0m: local variable 'a' referenced before assignment"
     ]
    }
   ],
   "source": [
    "a=2  ## global:anywhere in the file\n",
    "def display():\n",
    "    print(a) \n",
    "    # we access the varible before creating\n",
    "    #at here interpreter get confused the variable is local or global .\n",
    "    b=3 ## local:within the function\n",
    "    a=10\n",
    "    print(b)\n",
    "    print(a)\n",
    "print(\"hello\")\n",
    "display()\n",
    "print(a)\n",
    "print(b)\n"
   ]
  },
  {
   "cell_type": "code",
   "execution_count": 14,
   "id": "185390af",
   "metadata": {},
   "outputs": [
    {
     "name": "stdout",
     "output_type": "stream",
     "text": [
      "hello\n",
      "2\n",
      "3\n",
      "10\n",
      "10\n"
     ]
    },
    {
     "ename": "NameError",
     "evalue": "name 'b' is not defined",
     "output_type": "error",
     "traceback": [
      "\u001b[1;31m---------------------------------------------------------------------------\u001b[0m",
      "\u001b[1;31mNameError\u001b[0m                                 Traceback (most recent call last)",
      "Cell \u001b[1;32mIn[14], line 12\u001b[0m\n\u001b[0;32m     10\u001b[0m display()\n\u001b[0;32m     11\u001b[0m \u001b[38;5;28mprint\u001b[39m(a)\n\u001b[1;32m---> 12\u001b[0m \u001b[38;5;28mprint\u001b[39m(\u001b[43mb\u001b[49m)\n",
      "\u001b[1;31mNameError\u001b[0m: name 'b' is not defined"
     ]
    }
   ],
   "source": [
    "a=2  ## global:anywhere in the file\n",
    "def display():\n",
    "    global a \n",
    "    print(a)\n",
    "    b=3 ## local:within the function\n",
    "    a=10 ## global \n",
    "    print(b)\n",
    "    print(a)\n",
    "print(\"hello\")\n",
    "display()\n",
    "print(a)\n",
    "print(b)\n"
   ]
  },
  {
   "cell_type": "markdown",
   "id": "773d7af4",
   "metadata": {},
   "source": [
    "## how to access the doc string"
   ]
  },
  {
   "cell_type": "code",
   "execution_count": 29,
   "id": "348ec53c",
   "metadata": {},
   "outputs": [],
   "source": [
    "def add(n1,n2):\n",
    "    '''this is for addition of two numbers'''\n",
    "    r=n1+n2\n",
    "    print(\"the result is \",r)"
   ]
  },
  {
   "cell_type": "code",
   "execution_count": 30,
   "id": "c8eba2ce",
   "metadata": {},
   "outputs": [
    {
     "name": "stdout",
     "output_type": "stream",
     "text": [
      "the result is  5\n"
     ]
    }
   ],
   "source": [
    "add(2,3)"
   ]
  },
  {
   "cell_type": "code",
   "execution_count": 31,
   "id": "0d075beb",
   "metadata": {},
   "outputs": [
    {
     "data": {
      "text/plain": [
       "'this is for addition of two numbers'"
      ]
     },
     "execution_count": 31,
     "metadata": {},
     "output_type": "execute_result"
    }
   ],
   "source": [
    "add.__doc__"
   ]
  },
  {
   "cell_type": "markdown",
   "id": "fb745d08",
   "metadata": {},
   "source": [
    "# nested function"
   ]
  },
  {
   "cell_type": "code",
   "execution_count": 50,
   "id": "66573526",
   "metadata": {},
   "outputs": [],
   "source": [
    "def total(n1,n2):\n",
    "    r=n1+n2\n",
    "    def avg():\n",
    "        avg=r/2\n",
    "        print(\"the average is \",avg)\n",
    "    avg()"
   ]
  },
  {
   "cell_type": "code",
   "execution_count": 51,
   "id": "ccbd2a56",
   "metadata": {},
   "outputs": [
    {
     "name": "stdout",
     "output_type": "stream",
     "text": [
      "the average is  2.5\n"
     ]
    }
   ],
   "source": [
    "total(2,3)"
   ]
  },
  {
   "cell_type": "code",
   "execution_count": 53,
   "id": "af121d45",
   "metadata": {},
   "outputs": [
    {
     "name": "stdout",
     "output_type": "stream",
     "text": [
      "the average is  7.0\n"
     ]
    }
   ],
   "source": [
    "total(4,10)"
   ]
  },
  {
   "cell_type": "markdown",
   "id": "ac1a8cc7",
   "metadata": {},
   "source": [
    "###  modulus: modulus are nothing but are the ipynb files.this contains function definitions.\n",
    "Modulus :\n",
    "- built in\n",
    "- user defined"
   ]
  },
  {
   "cell_type": "markdown",
   "id": "67454f46",
   "metadata": {},
   "source": [
    "## built in\n",
    "- math\n",
    "- random\n",
    "- os\n",
    "- sys"
   ]
  },
  {
   "cell_type": "code",
   "execution_count": 2,
   "id": "dcc726cc",
   "metadata": {},
   "outputs": [],
   "source": [
    "import math"
   ]
  },
  {
   "cell_type": "code",
   "execution_count": 3,
   "id": "eae3488c",
   "metadata": {},
   "outputs": [
    {
     "data": {
      "text/plain": [
       "['__doc__',\n",
       " '__loader__',\n",
       " '__name__',\n",
       " '__package__',\n",
       " '__spec__',\n",
       " 'acos',\n",
       " 'acosh',\n",
       " 'asin',\n",
       " 'asinh',\n",
       " 'atan',\n",
       " 'atan2',\n",
       " 'atanh',\n",
       " 'ceil',\n",
       " 'comb',\n",
       " 'copysign',\n",
       " 'cos',\n",
       " 'cosh',\n",
       " 'degrees',\n",
       " 'dist',\n",
       " 'e',\n",
       " 'erf',\n",
       " 'erfc',\n",
       " 'exp',\n",
       " 'expm1',\n",
       " 'fabs',\n",
       " 'factorial',\n",
       " 'floor',\n",
       " 'fmod',\n",
       " 'frexp',\n",
       " 'fsum',\n",
       " 'gamma',\n",
       " 'gcd',\n",
       " 'hypot',\n",
       " 'inf',\n",
       " 'isclose',\n",
       " 'isfinite',\n",
       " 'isinf',\n",
       " 'isnan',\n",
       " 'isqrt',\n",
       " 'lcm',\n",
       " 'ldexp',\n",
       " 'lgamma',\n",
       " 'log',\n",
       " 'log10',\n",
       " 'log1p',\n",
       " 'log2',\n",
       " 'modf',\n",
       " 'nan',\n",
       " 'nextafter',\n",
       " 'perm',\n",
       " 'pi',\n",
       " 'pow',\n",
       " 'prod',\n",
       " 'radians',\n",
       " 'remainder',\n",
       " 'sin',\n",
       " 'sinh',\n",
       " 'sqrt',\n",
       " 'tan',\n",
       " 'tanh',\n",
       " 'tau',\n",
       " 'trunc',\n",
       " 'ulp']"
      ]
     },
     "execution_count": 3,
     "metadata": {},
     "output_type": "execute_result"
    }
   ],
   "source": [
    " dir(math)  # get the list of readymate function"
   ]
  },
  {
   "cell_type": "code",
   "execution_count": 4,
   "id": "d6b34a98",
   "metadata": {},
   "outputs": [
    {
     "data": {
      "text/plain": [
       "120"
      ]
     },
     "execution_count": 4,
     "metadata": {},
     "output_type": "execute_result"
    }
   ],
   "source": [
    "math.factorial(5)"
   ]
  },
  {
   "cell_type": "markdown",
   "id": "44337842",
   "metadata": {},
   "source": [
    "- floor\n",
    "- ceil\n",
    "- round \n",
    "all are used for truncate the decimal part i.e give the whole no."
   ]
  },
  {
   "cell_type": "markdown",
   "id": "7a3685d8",
   "metadata": {},
   "source": [
    "## floor : it return the number or nearest integer which is less than or equal to number "
   ]
  },
  {
   "cell_type": "code",
   "execution_count": 6,
   "id": "fdcf6558",
   "metadata": {},
   "outputs": [
    {
     "data": {
      "text/plain": [
       "25"
      ]
     },
     "execution_count": 6,
     "metadata": {},
     "output_type": "execute_result"
    }
   ],
   "source": [
    "math.floor(25.6897)"
   ]
  },
  {
   "cell_type": "markdown",
   "id": "d79e28a3",
   "metadata": {},
   "source": [
    "## ceil  : it return the number or nearest integer which is greater than or equal to number"
   ]
  },
  {
   "cell_type": "code",
   "execution_count": 7,
   "id": "619115e4",
   "metadata": {},
   "outputs": [
    {
     "data": {
      "text/plain": [
       "255"
      ]
     },
     "execution_count": 7,
     "metadata": {},
     "output_type": "execute_result"
    }
   ],
   "source": [
    "math.ceil(254.145679)"
   ]
  },
  {
   "cell_type": "markdown",
   "id": "68c92704",
   "metadata": {},
   "source": [
    "## round : it is the inbuilt function of python for round the number"
   ]
  },
  {
   "cell_type": "code",
   "execution_count": 8,
   "id": "6368cace",
   "metadata": {},
   "outputs": [
    {
     "data": {
      "text/plain": [
       "26"
      ]
     },
     "execution_count": 8,
     "metadata": {},
     "output_type": "execute_result"
    }
   ],
   "source": [
    "round(25.89)"
   ]
  },
  {
   "cell_type": "markdown",
   "id": "d55c1704",
   "metadata": {},
   "source": [
    "# random"
   ]
  },
  {
   "cell_type": "code",
   "execution_count": 9,
   "id": "160a0f57",
   "metadata": {},
   "outputs": [],
   "source": [
    "import random"
   ]
  },
  {
   "cell_type": "code",
   "execution_count": 10,
   "id": "b216ab48",
   "metadata": {},
   "outputs": [
    {
     "data": {
      "text/plain": [
       "0.960918746815102"
      ]
     },
     "execution_count": 10,
     "metadata": {},
     "output_type": "execute_result"
    }
   ],
   "source": [
    "random.random()   # generate the random value rom 0 to 1\n"
   ]
  },
  {
   "cell_type": "code",
   "execution_count": 12,
   "id": "483a55db",
   "metadata": {},
   "outputs": [
    {
     "data": {
      "text/plain": [
       "0.13436424411240122"
      ]
     },
     "execution_count": 12,
     "metadata": {},
     "output_type": "execute_result"
    }
   ],
   "source": [
    "random.seed(1)   # to lock the random function\n",
    "random.random()"
   ]
  },
  {
   "cell_type": "markdown",
   "id": "eb3c6ee9",
   "metadata": {},
   "source": [
    "# generate the random numbers from particular range\n"
   ]
  },
  {
   "cell_type": "code",
   "execution_count": 16,
   "id": "0afdc8ba",
   "metadata": {},
   "outputs": [
    {
     "data": {
      "text/plain": [
       "26.996764522463327"
      ]
     },
     "execution_count": 16,
     "metadata": {},
     "output_type": "execute_result"
    }
   ],
   "source": [
    "random.uniform(2,100)"
   ]
  },
  {
   "cell_type": "code",
   "execution_count": 17,
   "id": "a060d2ff",
   "metadata": {},
   "outputs": [
    {
     "data": {
      "text/plain": [
       "65"
      ]
     },
     "execution_count": 17,
     "metadata": {},
     "output_type": "execute_result"
    }
   ],
   "source": [
    "random.randint(2,100)"
   ]
  },
  {
   "cell_type": "markdown",
   "id": "f6c24c7b",
   "metadata": {},
   "source": [
    "# choose the card\n"
   ]
  },
  {
   "cell_type": "code",
   "execution_count": 38,
   "id": "b73b4612",
   "metadata": {},
   "outputs": [
    {
     "data": {
      "text/plain": [
       "'card2'"
      ]
     },
     "execution_count": 38,
     "metadata": {},
     "output_type": "execute_result"
    }
   ],
   "source": [
    "l=[\"card1\",\"card2\",\"card3\",\"card4\"]\n",
    "random.choice(l)\n"
   ]
  },
  {
   "cell_type": "markdown",
   "id": "7877e809",
   "metadata": {},
   "source": [
    "# shuffling the card\n"
   ]
  },
  {
   "cell_type": "code",
   "execution_count": 42,
   "id": "4ca5568e",
   "metadata": {},
   "outputs": [],
   "source": [
    "random.shuffle(l)\n"
   ]
  },
  {
   "cell_type": "code",
   "execution_count": 43,
   "id": "df29f902",
   "metadata": {},
   "outputs": [
    {
     "data": {
      "text/plain": [
       "['card2', 'card1', 'card4', 'card3']"
      ]
     },
     "execution_count": 43,
     "metadata": {},
     "output_type": "execute_result"
    }
   ],
   "source": [
    "l"
   ]
  },
  {
   "cell_type": "markdown",
   "id": "10848e7c",
   "metadata": {},
   "source": [
    "# guess the game"
   ]
  },
  {
   "cell_type": "code",
   "execution_count": null,
   "id": "7b6aadf7",
   "metadata": {},
   "outputs": [],
   "source": [
    "random.seed(1)\n",
    "u=random.randint(1,10)\n",
    "print(u)\n",
    "count=0\n",
    "while(True):\n",
    "    if count==5:\n",
    "        break\n",
    "    elif count<5:\n",
    "        v=int(input(\"enter the number \"))\n",
    "        if (u==v):\n",
    "            print(\"you win the game\")\n",
    "            break\n",
    "        else:\n",
    "            count=count+1\n",
    "            print(\"number doesn't match\")\n",
    "            continue\n",
    "        "
   ]
  },
  {
   "cell_type": "code",
   "execution_count": null,
   "id": "2de39894",
   "metadata": {},
   "outputs": [],
   "source": []
  }
 ],
 "metadata": {
  "kernelspec": {
   "display_name": "Python 3 (ipykernel)",
   "language": "python",
   "name": "python3"
  },
  "language_info": {
   "codemirror_mode": {
    "name": "ipython",
    "version": 3
   },
   "file_extension": ".py",
   "mimetype": "text/x-python",
   "name": "python",
   "nbconvert_exporter": "python",
   "pygments_lexer": "ipython3",
   "version": "3.10.9"
  }
 },
 "nbformat": 4,
 "nbformat_minor": 5
}
