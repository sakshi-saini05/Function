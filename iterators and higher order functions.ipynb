{
 "cells": [
  {
   "cell_type": "markdown",
   "id": "e585f8e6",
   "metadata": {},
   "source": [
    "### Iterator \n",
    "- iterator is an object which contains a countable numbers of values  and it is used to iterate over iterable objects like list ,tuple etc.\n",
    "- iterators mostly used to iterate or convert other objects to an iterator using iter() function\n",
    "- iter uses iter() and next() function\n"
   ]
  },
  {
   "cell_type": "code",
   "execution_count": 1,
   "id": "b60def34",
   "metadata": {},
   "outputs": [
    {
     "name": "stdout",
     "output_type": "stream",
     "text": [
      "avishek\n",
      "tarun\n",
      "sakshi\n",
      "shubham\n"
     ]
    }
   ],
   "source": [
    "l=[\"avishek\",\"tarun\",\"sakshi\",\"shubham\"]\n",
    "for i in l:\n",
    "    print(i)"
   ]
  },
  {
   "cell_type": "code",
   "execution_count": 3,
   "id": "ff49d8f7",
   "metadata": {},
   "outputs": [
    {
     "name": "stdout",
     "output_type": "stream",
     "text": [
      "avishek\n",
      "tarun\n",
      "sakshi\n",
      "shubham\n"
     ]
    }
   ],
   "source": [
    "i=0\n",
    "while(i<len(l)):\n",
    "    print(l[i])\n",
    "    i=i+1"
   ]
  },
  {
   "cell_type": "markdown",
   "id": "3a7bb124",
   "metadata": {},
   "source": [
    "# iterator\n",
    "what is the need of this ?/\n",
    "# to handle the large stream of data"
   ]
  },
  {
   "cell_type": "code",
   "execution_count": 4,
   "id": "8227e42e",
   "metadata": {},
   "outputs": [
    {
     "data": {
      "text/plain": [
       "<list_iterator at 0x2076deb96f0>"
      ]
     },
     "execution_count": 4,
     "metadata": {},
     "output_type": "execute_result"
    }
   ],
   "source": [
    "a=iter(l)   # user for iterartion\n",
    "a"
   ]
  },
  {
   "cell_type": "code",
   "execution_count": 5,
   "id": "97860146",
   "metadata": {},
   "outputs": [
    {
     "data": {
      "text/plain": [
       "'avishek'"
      ]
     },
     "execution_count": 5,
     "metadata": {},
     "output_type": "execute_result"
    }
   ],
   "source": [
    "next(a)    # next: used for fetching"
   ]
  },
  {
   "cell_type": "code",
   "execution_count": 6,
   "id": "dfb9a38e",
   "metadata": {},
   "outputs": [
    {
     "data": {
      "text/plain": [
       "'tarun'"
      ]
     },
     "execution_count": 6,
     "metadata": {},
     "output_type": "execute_result"
    }
   ],
   "source": [
    "next(a)"
   ]
  },
  {
   "cell_type": "code",
   "execution_count": 7,
   "id": "1ff97cb1",
   "metadata": {},
   "outputs": [
    {
     "data": {
      "text/plain": [
       "'sakshi'"
      ]
     },
     "execution_count": 7,
     "metadata": {},
     "output_type": "execute_result"
    }
   ],
   "source": [
    "next(a)"
   ]
  },
  {
   "cell_type": "code",
   "execution_count": 9,
   "id": "ada3a591",
   "metadata": {},
   "outputs": [
    {
     "data": {
      "text/plain": [
       "'shubham'"
      ]
     },
     "execution_count": 9,
     "metadata": {},
     "output_type": "execute_result"
    }
   ],
   "source": [
    "next(a)"
   ]
  },
  {
   "cell_type": "code",
   "execution_count": 10,
   "id": "28adf526",
   "metadata": {},
   "outputs": [
    {
     "ename": "StopIteration",
     "evalue": "",
     "output_type": "error",
     "traceback": [
      "\u001b[1;31m---------------------------------------------------------------------------\u001b[0m",
      "\u001b[1;31mStopIteration\u001b[0m                             Traceback (most recent call last)",
      "Cell \u001b[1;32mIn[10], line 1\u001b[0m\n\u001b[1;32m----> 1\u001b[0m \u001b[38;5;28;43mnext\u001b[39;49m\u001b[43m(\u001b[49m\u001b[43ma\u001b[49m\u001b[43m)\u001b[49m\n",
      "\u001b[1;31mStopIteration\u001b[0m: "
     ]
    }
   ],
   "source": [
    "next(a)"
   ]
  },
  {
   "cell_type": "markdown",
   "id": "471c03b8",
   "metadata": {},
   "source": [
    "# lamda function"
   ]
  },
  {
   "cell_type": "markdown",
   "id": "8fcf78d3",
   "metadata": {},
   "source": [
    "\n",
    "### lambda (Annonymous Function)\n",
    "- These functions are called anonymous because they are not declared in the standard manner by using the def keyword. \n",
    "- You can use the lambda keyword to create small anonymous functions.\n",
    "\n",
    "\n"
   ]
  },
  {
   "cell_type": "markdown",
   "id": "9cad176f",
   "metadata": {},
   "source": [
    "### It is a keyword which act as a anonymous function. Anonymous means.(function without name)\n",
    "\n",
    "\n",
    "### It is that function which can take any number of arguments but has only one expression\n",
    "\n"
   ]
  },
  {
   "cell_type": "markdown",
   "id": "d74818ad",
   "metadata": {},
   "source": [
    "- 1 It is use when you need to use the function one time, no need to define the functions with proper retun statement ,here     it contains an expression that is returned.\n",
    "\n",
    "- 2. It is good for simple logical operations that are easy to understand. (readibility)\n",
    "\n",
    "- 3.  It is also used when we pass the argument as function to higher order function eg : filter,map.\n",
    "\n"
   ]
  },
  {
   "cell_type": "markdown",
   "id": "59a66cc9",
   "metadata": {},
   "source": [
    "### Cons\n",
    "\n",
    "1- It is considered as bad when you are required to perform more than one independent operations\n",
    "\n",
    "2. u can't write doc string to explain function taks \n",
    "\n",
    "\n"
   ]
  },
  {
   "cell_type": "markdown",
   "id": "e8ee739c",
   "metadata": {},
   "source": [
    "# syntax "
   ]
  },
  {
   "cell_type": "markdown",
   "id": "98979f18",
   "metadata": {},
   "source": [
    "- the syntax of lamda functions contains only one statement.\n",
    "- lambda[arg1[,arg2....argn]]:expressions"
   ]
  },
  {
   "cell_type": "markdown",
   "id": "d7293f24",
   "metadata": {},
   "source": [
    "# wap to give the sum of two numbers\n",
    "\n",
    "\n"
   ]
  },
  {
   "cell_type": "code",
   "execution_count": 13,
   "id": "f26c1656",
   "metadata": {},
   "outputs": [],
   "source": [
    "def add(n1,n2):\n",
    "    r=n1+n2\n",
    "    print(r)"
   ]
  },
  {
   "cell_type": "code",
   "execution_count": 14,
   "id": "0b51780d",
   "metadata": {},
   "outputs": [
    {
     "name": "stdout",
     "output_type": "stream",
     "text": [
      "5\n"
     ]
    }
   ],
   "source": [
    "add(2,3)"
   ]
  },
  {
   "cell_type": "code",
   "execution_count": 15,
   "id": "531965ce",
   "metadata": {},
   "outputs": [
    {
     "data": {
      "text/plain": [
       "5"
      ]
     },
     "execution_count": 15,
     "metadata": {},
     "output_type": "execute_result"
    }
   ],
   "source": [
    "(lambda x,y:x+y)(2,3)\n"
   ]
  },
  {
   "cell_type": "code",
   "execution_count": 20,
   "id": "62decf26",
   "metadata": {},
   "outputs": [
    {
     "name": "stdout",
     "output_type": "stream",
     "text": [
      "enter the first number 5\n",
      "enter the second number 4\n"
     ]
    },
    {
     "data": {
      "text/plain": [
       "9"
      ]
     },
     "execution_count": 20,
     "metadata": {},
     "output_type": "execute_result"
    }
   ],
   "source": [
    "(lambda x,y:x+y)(int(input(\"enter the first number \")),int(input(\"enter the second number \")))"
   ]
  },
  {
   "cell_type": "markdown",
   "id": "a22d9a95",
   "metadata": {},
   "source": [
    "# wap to display the largest among two numbers"
   ]
  },
  {
   "cell_type": "code",
   "execution_count": 22,
   "id": "950c00da",
   "metadata": {},
   "outputs": [
    {
     "data": {
      "text/plain": [
       "100"
      ]
     },
     "execution_count": 22,
     "metadata": {},
     "output_type": "execute_result"
    }
   ],
   "source": [
    "(lambda x,y:x if x>y else y)(100,6)"
   ]
  },
  {
   "cell_type": "code",
   "execution_count": 24,
   "id": "fb8fbdaf",
   "metadata": {},
   "outputs": [
    {
     "data": {
      "text/plain": [
       "5"
      ]
     },
     "execution_count": 24,
     "metadata": {},
     "output_type": "execute_result"
    }
   ],
   "source": [
    "(lambda x:x**3 if x%2==0 else x+2)(3)"
   ]
  },
  {
   "cell_type": "markdown",
   "id": "609bf61d",
   "metadata": {},
   "source": [
    "# wap to display the largest number among three numbers"
   ]
  },
  {
   "cell_type": "code",
   "execution_count": 28,
   "id": "a118161c",
   "metadata": {},
   "outputs": [
    {
     "data": {
      "text/plain": [
       "45"
      ]
     },
     "execution_count": 28,
     "metadata": {},
     "output_type": "execute_result"
    }
   ],
   "source": [
    "(lambda x,y,z:x if (x>y and x<z) else (y if (y<z and y<x) else z))(12,30,45)"
   ]
  },
  {
   "cell_type": "markdown",
   "id": "46a923fb",
   "metadata": {},
   "source": [
    "# higher order functions"
   ]
  },
  {
   "cell_type": "markdown",
   "id": "996347e3",
   "metadata": {},
   "source": [
    "- map\n",
    "- filter\n",
    "- reduce"
   ]
  },
  {
   "cell_type": "markdown",
   "id": "fa8ee422",
   "metadata": {},
   "source": [
    "## map "
   ]
  },
  {
   "cell_type": "markdown",
   "id": "65d5a89d",
   "metadata": {},
   "source": [
    "# wap to display the fruits which starts with \"a\""
   ]
  },
  {
   "cell_type": "markdown",
   "id": "2a4f1a92",
   "metadata": {},
   "source": [
    "# ist method"
   ]
  },
  {
   "cell_type": "code",
   "execution_count": 2,
   "id": "f7754192",
   "metadata": {},
   "outputs": [
    {
     "data": {
      "text/plain": [
       "['apple', 'avacado']"
      ]
     },
     "execution_count": 2,
     "metadata": {},
     "output_type": "execute_result"
    }
   ],
   "source": [
    "fruit=[\"apple\",\"chiku\",\"avacado\",\"pear\",\"grapes\"]\n",
    "l=[]\n",
    "for i in fruit:\n",
    "    if i.startswith(\"a\"):\n",
    "        l.append(i)\n",
    "l        "
   ]
  },
  {
   "cell_type": "markdown",
   "id": "30afe2a2",
   "metadata": {},
   "source": [
    "# second method : list comprehension"
   ]
  },
  {
   "cell_type": "code",
   "execution_count": 6,
   "id": "f0037d5e",
   "metadata": {},
   "outputs": [
    {
     "data": {
      "text/plain": [
       "['apple', 'avacado']"
      ]
     },
     "execution_count": 6,
     "metadata": {},
     "output_type": "execute_result"
    }
   ],
   "source": [
    "[i for i in fruit if i.startswith(\"a\")]"
   ]
  },
  {
   "cell_type": "markdown",
   "id": "9a5990d6",
   "metadata": {},
   "source": [
    "# third method : map"
   ]
  },
  {
   "cell_type": "code",
   "execution_count": 11,
   "id": "3c9ecdaf",
   "metadata": {},
   "outputs": [
    {
     "data": {
      "text/plain": [
       "<map at 0x23c6205c2e0>"
      ]
     },
     "execution_count": 11,
     "metadata": {},
     "output_type": "execute_result"
    }
   ],
   "source": [
    "a=map(lambda x :x if x.startswith(\"a\")else \"\",fruit)   # return the iterator\n",
    "a"
   ]
  },
  {
   "cell_type": "code",
   "execution_count": 12,
   "id": "3c167c4b",
   "metadata": {},
   "outputs": [
    {
     "data": {
      "text/plain": [
       "'apple'"
      ]
     },
     "execution_count": 12,
     "metadata": {},
     "output_type": "execute_result"
    }
   ],
   "source": [
    "next(a)"
   ]
  },
  {
   "cell_type": "code",
   "execution_count": 13,
   "id": "1495198e",
   "metadata": {},
   "outputs": [
    {
     "data": {
      "text/plain": [
       "''"
      ]
     },
     "execution_count": 13,
     "metadata": {},
     "output_type": "execute_result"
    }
   ],
   "source": [
    "next(a)"
   ]
  },
  {
   "cell_type": "code",
   "execution_count": 14,
   "id": "bed06fc2",
   "metadata": {},
   "outputs": [
    {
     "data": {
      "text/plain": [
       "'avacado'"
      ]
     },
     "execution_count": 14,
     "metadata": {},
     "output_type": "execute_result"
    }
   ],
   "source": [
    "next(a)"
   ]
  },
  {
   "cell_type": "code",
   "execution_count": 15,
   "id": "1388a086",
   "metadata": {},
   "outputs": [
    {
     "data": {
      "text/plain": [
       "''"
      ]
     },
     "execution_count": 15,
     "metadata": {},
     "output_type": "execute_result"
    }
   ],
   "source": [
    "next(a)"
   ]
  },
  {
   "cell_type": "code",
   "execution_count": 17,
   "id": "3efbb595",
   "metadata": {},
   "outputs": [
    {
     "data": {
      "text/plain": [
       "''"
      ]
     },
     "execution_count": 17,
     "metadata": {},
     "output_type": "execute_result"
    }
   ],
   "source": [
    "next(a)"
   ]
  },
  {
   "cell_type": "code",
   "execution_count": 18,
   "id": "752527a0",
   "metadata": {},
   "outputs": [
    {
     "ename": "StopIteration",
     "evalue": "",
     "output_type": "error",
     "traceback": [
      "\u001b[1;31m---------------------------------------------------------------------------\u001b[0m",
      "\u001b[1;31mStopIteration\u001b[0m                             Traceback (most recent call last)",
      "Cell \u001b[1;32mIn[18], line 1\u001b[0m\n\u001b[1;32m----> 1\u001b[0m \u001b[38;5;28;43mnext\u001b[39;49m\u001b[43m(\u001b[49m\u001b[43ma\u001b[49m\u001b[43m)\u001b[49m\n",
      "\u001b[1;31mStopIteration\u001b[0m: "
     ]
    }
   ],
   "source": [
    "next(a)"
   ]
  },
  {
   "cell_type": "code",
   "execution_count": 19,
   "id": "66749e6b",
   "metadata": {},
   "outputs": [
    {
     "data": {
      "text/plain": [
       "['apple', '', 'avacado', '', '']"
      ]
     },
     "execution_count": 19,
     "metadata": {},
     "output_type": "execute_result"
    }
   ],
   "source": [
    "list(map(lambda x :x if x.startswith(\"a\")else \"\",fruit))"
   ]
  },
  {
   "cell_type": "markdown",
   "id": "ff25069a",
   "metadata": {},
   "source": [
    "# wap of square the list of item"
   ]
  },
  {
   "cell_type": "code",
   "execution_count": 27,
   "id": "3f9338b4",
   "metadata": {},
   "outputs": [],
   "source": [
    "l=[11,12,13,14,15]"
   ]
  },
  {
   "cell_type": "code",
   "execution_count": 28,
   "id": "929a6674",
   "metadata": {},
   "outputs": [
    {
     "data": {
      "text/plain": [
       "[22, 24, 26, 28, 30]"
      ]
     },
     "execution_count": 28,
     "metadata": {},
     "output_type": "execute_result"
    }
   ],
   "source": [
    "list(map(lambda x:x*2,l))"
   ]
  },
  {
   "cell_type": "markdown",
   "id": "03bc5d9d",
   "metadata": {},
   "source": [
    "# filter "
   ]
  },
  {
   "cell_type": "markdown",
   "id": "98965b1c",
   "metadata": {},
   "source": [
    "# it is same as map but it works only when the if conditions are true otherwise it gives the original value.if the \"if sta#tement is given then it works\"\n",
    "\n",
    "\n",
    "# else part must be necessary if we are using the if statement"
   ]
  },
  {
   "cell_type": "code",
   "execution_count": 31,
   "id": "fb8ee31a",
   "metadata": {},
   "outputs": [
    {
     "data": {
      "text/plain": [
       "['apple', 'avacado']"
      ]
     },
     "execution_count": 31,
     "metadata": {},
     "output_type": "execute_result"
    }
   ],
   "source": [
    "list(filter(lambda x:x if x.startswith(\"a\")else \"\",fruit))"
   ]
  },
  {
   "cell_type": "code",
   "execution_count": 33,
   "id": "ba907e97",
   "metadata": {},
   "outputs": [
    {
     "data": {
      "text/plain": [
       "[11, 12, 13, 14, 15]"
      ]
     },
     "execution_count": 33,
     "metadata": {},
     "output_type": "execute_result"
    }
   ],
   "source": [
    "list(filter(lambda x: x*2,l))    # it gives the original list bcoz it does n't having the if condition"
   ]
  },
  {
   "cell_type": "markdown",
   "id": "f0a1ce1e",
   "metadata": {},
   "source": [
    "## ques"
   ]
  },
  {
   "cell_type": "code",
   "execution_count": 34,
   "id": "905a2bc4",
   "metadata": {},
   "outputs": [
    {
     "data": {
      "text/plain": [
       "[11, 12, 13, 14, 15]"
      ]
     },
     "execution_count": 34,
     "metadata": {},
     "output_type": "execute_result"
    }
   ],
   "source": [
    "l1=[1,2,3,4,5]\n",
    "l2=[10,10,10,10,10]\n",
    "list(map(lambda x,y:x+y,l1,l2))"
   ]
  },
  {
   "cell_type": "markdown",
   "id": "3ca2933b",
   "metadata": {},
   "source": [
    "## another concept of lambda"
   ]
  },
  {
   "cell_type": "code",
   "execution_count": 40,
   "id": "44789635",
   "metadata": {},
   "outputs": [],
   "source": [
    "l=[\"aba\",\"bac\",\"dfx\",\"mig\",\"defg\",\"lmnpgw\"]"
   ]
  },
  {
   "cell_type": "markdown",
   "id": "e687d756",
   "metadata": {},
   "source": [
    "# task 1 :sort the list alphabetical \n",
    "# task2 : sort the list acc to the last letter of the element "
   ]
  },
  {
   "cell_type": "code",
   "execution_count": 36,
   "id": "c24e4d61",
   "metadata": {},
   "outputs": [
    {
     "data": {
      "text/plain": [
       "['aba', 'bac', 'dfx', 'mig']"
      ]
     },
     "execution_count": 36,
     "metadata": {},
     "output_type": "execute_result"
    }
   ],
   "source": [
    "l2=sorted(l)\n",
    "l2"
   ]
  },
  {
   "cell_type": "code",
   "execution_count": 41,
   "id": "c827a6b6",
   "metadata": {},
   "outputs": [
    {
     "data": {
      "text/plain": [
       "['aba', 'bac', 'mig', 'defg', 'lmnpgw', 'dfx']"
      ]
     },
     "execution_count": 41,
     "metadata": {},
     "output_type": "execute_result"
    }
   ],
   "source": [
    "l3=sorted(l,key=lambda x:x[-1])\n",
    "l3"
   ]
  },
  {
   "cell_type": "markdown",
   "id": "53db5ee4",
   "metadata": {},
   "source": [
    "# task 3: acc to the lenth of the words"
   ]
  },
  {
   "cell_type": "code",
   "execution_count": 42,
   "id": "02307f16",
   "metadata": {},
   "outputs": [
    {
     "data": {
      "text/plain": [
       "['aba', 'bac', 'dfx', 'mig', 'defg', 'lmnpgw']"
      ]
     },
     "execution_count": 42,
     "metadata": {},
     "output_type": "execute_result"
    }
   ],
   "source": [
    "l4=sorted(l,key=lambda x:len(x))\n",
    "l4"
   ]
  },
  {
   "cell_type": "markdown",
   "id": "19c06591",
   "metadata": {},
   "source": [
    "# reduce : it give the result in the reduced form ,it is not the inbuilt function of the python it is taken from the functools libraries"
   ]
  },
  {
   "cell_type": "code",
   "execution_count": 43,
   "id": "54b26162",
   "metadata": {},
   "outputs": [],
   "source": [
    "from functools import reduce"
   ]
  },
  {
   "cell_type": "code",
   "execution_count": 44,
   "id": "0320b0ad",
   "metadata": {},
   "outputs": [
    {
     "data": {
      "text/plain": [
       "328"
      ]
     },
     "execution_count": 44,
     "metadata": {},
     "output_type": "execute_result"
    }
   ],
   "source": [
    "l=[47,85,96,100]\n",
    "reduce(lambda x,y:x+y,l)"
   ]
  },
  {
   "cell_type": "code",
   "execution_count": 63,
   "id": "4effea2b",
   "metadata": {},
   "outputs": [
    {
     "data": {
      "text/plain": [
       "100"
      ]
     },
     "execution_count": 63,
     "metadata": {},
     "output_type": "execute_result"
    }
   ],
   "source": [
    "reduce(lambda x,y:x if x>y else y,l)"
   ]
  },
  {
   "cell_type": "markdown",
   "id": "0bfe35c0",
   "metadata": {},
   "source": [
    "# how to sort the dict acc to the values"
   ]
  },
  {
   "cell_type": "code",
   "execution_count": 46,
   "id": "000144a9",
   "metadata": {},
   "outputs": [
    {
     "data": {
      "text/plain": [
       "[0, 1, 2, 3]"
      ]
     },
     "execution_count": 46,
     "metadata": {},
     "output_type": "execute_result"
    }
   ],
   "source": [
    "dict={1:\"one\",2:\"two\",3:\"three\",0:\"zero\"}\n",
    "sorted(dict)"
   ]
  },
  {
   "cell_type": "code",
   "execution_count": 49,
   "id": "40d55ccd",
   "metadata": {},
   "outputs": [
    {
     "data": {
      "text/plain": [
       "['one', 'three', 'two', 'zero']"
      ]
     },
     "execution_count": 49,
     "metadata": {},
     "output_type": "execute_result"
    }
   ],
   "source": [
    "sorted(dict.values())"
   ]
  },
  {
   "cell_type": "code",
   "execution_count": 50,
   "id": "eaf5a7dc",
   "metadata": {},
   "outputs": [
    {
     "data": {
      "text/plain": [
       "[(0, 'zero'), (1, 'one'), (2, 'two'), (3, 'three')]"
      ]
     },
     "execution_count": 50,
     "metadata": {},
     "output_type": "execute_result"
    }
   ],
   "source": [
    "sorted(dict.items())"
   ]
  },
  {
   "cell_type": "code",
   "execution_count": 55,
   "id": "2a497dac",
   "metadata": {},
   "outputs": [
    {
     "data": {
      "text/plain": [
       "[(1, 'one'), (3, 'three'), (2, 'two'), (0, 'zero')]"
      ]
     },
     "execution_count": 55,
     "metadata": {},
     "output_type": "execute_result"
    }
   ],
   "source": [
    "[list(sorted(dict.items(),key=lambda x:x[-1]))]"
   ]
  },
  {
   "cell_type": "code",
   "execution_count": null,
   "id": "77d9d0a6",
   "metadata": {},
   "outputs": [],
   "source": [
    "    "
   ]
  }
 ],
 "metadata": {
  "kernelspec": {
   "display_name": "Python 3 (ipykernel)",
   "language": "python",
   "name": "python3"
  },
  "language_info": {
   "codemirror_mode": {
    "name": "ipython",
    "version": 3
   },
   "file_extension": ".py",
   "mimetype": "text/x-python",
   "name": "python",
   "nbconvert_exporter": "python",
   "pygments_lexer": "ipython3",
   "version": "3.10.9"
  }
 },
 "nbformat": 4,
 "nbformat_minor": 5
}
